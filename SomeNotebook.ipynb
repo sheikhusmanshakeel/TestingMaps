{
 "cells": [
  {
   "cell_type": "code",
   "execution_count": 24,
   "metadata": {
    "collapsed": true
   },
   "outputs": [],
   "source": [
    "import pandas as pd\n",
    "import numpy as np\n",
    "import matplotlib.pyplot as plt\n",
    "#%matplotlib inline\n",
    "import seaborn as sn\n",
    "from matplotlib import style\n",
    "import matplotlib.font_manager as font_manager\n",
    "from statsmodels.tsa.stattools import acf, pacf\n",
    "from statsmodels.tsa.arima_model import ARIMA"
   ]
  },
  {
   "cell_type": "code",
   "execution_count": 25,
   "metadata": {
    "collapsed": true
   },
   "outputs": [],
   "source": [
    "style.use('ggplot')\n",
    "font_path = 'C:\\Windows\\Fonts\\Arial.ttf'\n",
    "font_prop = font_manager.FontProperties(fname=font_path, size=12)\n",
    "title_font = {'fontname':'Arial', 'size':'15', 'color':'black', 'weight':'normal',\n",
    "              'verticalalignment':'bottom'} # Bottom vertical alignment for more space\n",
    "axis_font = {'fontname':'Arial', 'size':'12'}"
   ]
  },
  {
   "cell_type": "code",
   "execution_count": 26,
   "metadata": {
    "collapsed": true
   },
   "outputs": [],
   "source": [
    "filePathMonthly = 'C:\\\\Users\\\\lenovo\\\\Documents\\\\Dissertation\\\\Report\\\\DataFiles\\\\PoissonDataMonthly.csv'\n",
    "filePathDaily = 'C:\\\\Users\\\\lenovo\\\\Documents\\\\Dissertation\\\\Report\\\\DataFiles\\\\PoissonDataDaily.csv'"
   ]
  },
  {
   "cell_type": "code",
   "execution_count": 27,
   "metadata": {
    "collapsed": false
   },
   "outputs": [],
   "source": [
    "dateparseMonthly = lambda dates: pd.datetime.strptime(dates, '%m/%Y')\n",
    "timeSeriesMonthly = pd.read_csv(filePathMonthly, sep=',', parse_dates=[0], header=1,\n",
    "                         names=['MonthYear','Index', 'Fat', 'Sanitary Products', 'Roots','Other','Total'],\n",
    "                         date_parser=dateparseMonthly, index_col='MonthYear')"
   ]
  },
  {
   "cell_type": "code",
   "execution_count": 28,
   "metadata": {
    "collapsed": false
   },
   "outputs": [],
   "source": [
    "rolmeanMonthly = timeSeriesMonthly['Fat'].rolling(center=False,window=3).mean()\n",
    "rolstdMonthly = timeSeriesMonthly['Fat'].rolling(center=False,window=3).std()"
   ]
  },
  {
   "cell_type": "code",
   "execution_count": 29,
   "metadata": {
    "collapsed": false
   },
   "outputs": [],
   "source": [
    "plt.figure(figsize=(8, 6), dpi=400)\n",
    "plt.plot(timeSeriesMonthly['Fat'], color='r', marker='o')\n",
    "plt.rcParams['font.size'] = 50\n",
    "plt.plot(rolmeanMonthly, label='Rolling Mean - Fat', color='orange', marker='^')\n",
    "#plt.title('Blockage trend for Fat - Per Month', **title_font)\n",
    "plt.xlabel('Month/Year', **axis_font)\n",
    "plt.ylabel('Blockage Count', **axis_font)\n",
    "plt.legend(prop=font_prop, numpoints=1,loc='upper right')\n",
    "plt.savefig(\"C:\\\\Users\\\\lenovo\\\\Documents\\\\Dissertation\\\\Report\\\\Images\\\\CompleteMonthlyBTforFat.png\", dpi=400)\n",
    "plt.show()"
   ]
  },
  {
   "cell_type": "code",
   "execution_count": 30,
   "metadata": {
    "collapsed": false
   },
   "outputs": [
    {
     "ename": "ValueError",
     "evalue": "left cannot be >= right",
     "output_type": "error",
     "traceback": [
      "\u001b[1;31m---------------------------------------------------------------------------\u001b[0m",
      "\u001b[1;31mValueError\u001b[0m                                Traceback (most recent call last)",
      "\u001b[1;32m<ipython-input-30-51ae4c1c9fba>\u001b[0m in \u001b[0;36m<module>\u001b[1;34m()\u001b[0m\n\u001b[0;32m     15\u001b[0m \u001b[0mplt\u001b[0m\u001b[1;33m.\u001b[0m\u001b[0maxhline\u001b[0m\u001b[1;33m(\u001b[0m\u001b[0my\u001b[0m\u001b[1;33m=\u001b[0m\u001b[1;36m1.96\u001b[0m\u001b[1;33m/\u001b[0m\u001b[0mnp\u001b[0m\u001b[1;33m.\u001b[0m\u001b[0msqrt\u001b[0m\u001b[1;33m(\u001b[0m\u001b[0mlen\u001b[0m\u001b[1;33m(\u001b[0m\u001b[0mtimeSeriesMonthly\u001b[0m\u001b[1;33m[\u001b[0m\u001b[1;34m'Fat'\u001b[0m\u001b[1;33m]\u001b[0m\u001b[1;33m)\u001b[0m\u001b[1;33m)\u001b[0m\u001b[1;33m,\u001b[0m\u001b[0mlinestyle\u001b[0m\u001b[1;33m=\u001b[0m\u001b[1;34m'--'\u001b[0m\u001b[1;33m,\u001b[0m\u001b[0mcolor\u001b[0m\u001b[1;33m=\u001b[0m\u001b[1;34m'gray'\u001b[0m\u001b[1;33m)\u001b[0m\u001b[1;33m\u001b[0m\u001b[0m\n\u001b[0;32m     16\u001b[0m \u001b[0mplt\u001b[0m\u001b[1;33m.\u001b[0m\u001b[0mtitle\u001b[0m\u001b[1;33m(\u001b[0m\u001b[1;34m'Partial Autocorrelation Function'\u001b[0m\u001b[1;33m)\u001b[0m\u001b[1;33m\u001b[0m\u001b[0m\n\u001b[1;32m---> 17\u001b[1;33m \u001b[0mplt\u001b[0m\u001b[1;33m.\u001b[0m\u001b[0mtight_layout\u001b[0m\u001b[1;33m(\u001b[0m\u001b[1;33m)\u001b[0m\u001b[1;33m\u001b[0m\u001b[0m\n\u001b[0m",
      "\u001b[1;32mC:\\Users\\lenovo\\Anaconda3\\lib\\site-packages\\matplotlib\\pyplot.py\u001b[0m in \u001b[0;36mtight_layout\u001b[1;34m(pad, h_pad, w_pad, rect)\u001b[0m\n\u001b[0;32m   1377\u001b[0m \u001b[1;33m\u001b[0m\u001b[0m\n\u001b[0;32m   1378\u001b[0m     \u001b[0mfig\u001b[0m \u001b[1;33m=\u001b[0m \u001b[0mgcf\u001b[0m\u001b[1;33m(\u001b[0m\u001b[1;33m)\u001b[0m\u001b[1;33m\u001b[0m\u001b[0m\n\u001b[1;32m-> 1379\u001b[1;33m     \u001b[0mfig\u001b[0m\u001b[1;33m.\u001b[0m\u001b[0mtight_layout\u001b[0m\u001b[1;33m(\u001b[0m\u001b[0mpad\u001b[0m\u001b[1;33m=\u001b[0m\u001b[0mpad\u001b[0m\u001b[1;33m,\u001b[0m \u001b[0mh_pad\u001b[0m\u001b[1;33m=\u001b[0m\u001b[0mh_pad\u001b[0m\u001b[1;33m,\u001b[0m \u001b[0mw_pad\u001b[0m\u001b[1;33m=\u001b[0m\u001b[0mw_pad\u001b[0m\u001b[1;33m,\u001b[0m \u001b[0mrect\u001b[0m\u001b[1;33m=\u001b[0m\u001b[0mrect\u001b[0m\u001b[1;33m)\u001b[0m\u001b[1;33m\u001b[0m\u001b[0m\n\u001b[0m\u001b[0;32m   1380\u001b[0m \u001b[1;33m\u001b[0m\u001b[0m\n\u001b[0;32m   1381\u001b[0m \u001b[1;33m\u001b[0m\u001b[0m\n",
      "\u001b[1;32mC:\\Users\\lenovo\\Anaconda3\\lib\\site-packages\\matplotlib\\figure.py\u001b[0m in \u001b[0;36mtight_layout\u001b[1;34m(self, renderer, pad, h_pad, w_pad, rect)\u001b[0m\n\u001b[0;32m   1754\u001b[0m                                          rect=rect)\n\u001b[0;32m   1755\u001b[0m \u001b[1;33m\u001b[0m\u001b[0m\n\u001b[1;32m-> 1756\u001b[1;33m         \u001b[0mself\u001b[0m\u001b[1;33m.\u001b[0m\u001b[0msubplots_adjust\u001b[0m\u001b[1;33m(\u001b[0m\u001b[1;33m**\u001b[0m\u001b[0mkwargs\u001b[0m\u001b[1;33m)\u001b[0m\u001b[1;33m\u001b[0m\u001b[0m\n\u001b[0m\u001b[0;32m   1757\u001b[0m \u001b[1;33m\u001b[0m\u001b[0m\n\u001b[0;32m   1758\u001b[0m \u001b[1;33m\u001b[0m\u001b[0m\n",
      "\u001b[1;32mC:\\Users\\lenovo\\Anaconda3\\lib\\site-packages\\matplotlib\\figure.py\u001b[0m in \u001b[0;36msubplots_adjust\u001b[1;34m(self, *args, **kwargs)\u001b[0m\n\u001b[0;32m   1610\u001b[0m \u001b[1;33m\u001b[0m\u001b[0m\n\u001b[0;32m   1611\u001b[0m         \"\"\"\n\u001b[1;32m-> 1612\u001b[1;33m         \u001b[0mself\u001b[0m\u001b[1;33m.\u001b[0m\u001b[0msubplotpars\u001b[0m\u001b[1;33m.\u001b[0m\u001b[0mupdate\u001b[0m\u001b[1;33m(\u001b[0m\u001b[1;33m*\u001b[0m\u001b[0margs\u001b[0m\u001b[1;33m,\u001b[0m \u001b[1;33m**\u001b[0m\u001b[0mkwargs\u001b[0m\u001b[1;33m)\u001b[0m\u001b[1;33m\u001b[0m\u001b[0m\n\u001b[0m\u001b[0;32m   1613\u001b[0m         \u001b[1;32mfor\u001b[0m \u001b[0max\u001b[0m \u001b[1;32min\u001b[0m \u001b[0mself\u001b[0m\u001b[1;33m.\u001b[0m\u001b[0maxes\u001b[0m\u001b[1;33m:\u001b[0m\u001b[1;33m\u001b[0m\u001b[0m\n\u001b[0;32m   1614\u001b[0m             \u001b[1;32mif\u001b[0m \u001b[1;32mnot\u001b[0m \u001b[0misinstance\u001b[0m\u001b[1;33m(\u001b[0m\u001b[0max\u001b[0m\u001b[1;33m,\u001b[0m \u001b[0mSubplotBase\u001b[0m\u001b[1;33m)\u001b[0m\u001b[1;33m:\u001b[0m\u001b[1;33m\u001b[0m\u001b[0m\n",
      "\u001b[1;32mC:\\Users\\lenovo\\Anaconda3\\lib\\site-packages\\matplotlib\\figure.py\u001b[0m in \u001b[0;36mupdate\u001b[1;34m(self, left, bottom, right, top, wspace, hspace)\u001b[0m\n\u001b[0;32m    224\u001b[0m             \u001b[1;32mif\u001b[0m \u001b[0mself\u001b[0m\u001b[1;33m.\u001b[0m\u001b[0mleft\u001b[0m \u001b[1;33m>=\u001b[0m \u001b[0mself\u001b[0m\u001b[1;33m.\u001b[0m\u001b[0mright\u001b[0m\u001b[1;33m:\u001b[0m\u001b[1;33m\u001b[0m\u001b[0m\n\u001b[0;32m    225\u001b[0m                 \u001b[0mreset\u001b[0m\u001b[1;33m(\u001b[0m\u001b[1;33m)\u001b[0m\u001b[1;33m\u001b[0m\u001b[0m\n\u001b[1;32m--> 226\u001b[1;33m                 \u001b[1;32mraise\u001b[0m \u001b[0mValueError\u001b[0m\u001b[1;33m(\u001b[0m\u001b[1;34m'left cannot be >= right'\u001b[0m\u001b[1;33m)\u001b[0m\u001b[1;33m\u001b[0m\u001b[0m\n\u001b[0m\u001b[0;32m    227\u001b[0m \u001b[1;33m\u001b[0m\u001b[0m\n\u001b[0;32m    228\u001b[0m             \u001b[1;32mif\u001b[0m \u001b[0mself\u001b[0m\u001b[1;33m.\u001b[0m\u001b[0mbottom\u001b[0m \u001b[1;33m>=\u001b[0m \u001b[0mself\u001b[0m\u001b[1;33m.\u001b[0m\u001b[0mtop\u001b[0m\u001b[1;33m:\u001b[0m\u001b[1;33m\u001b[0m\u001b[0m\n",
      "\u001b[1;31mValueError\u001b[0m: left cannot be >= right"
     ]
    }
   ],
   "source": [
    "lag_acf = acf(timeSeriesMonthly['Fat'], nlags=20)\n",
    "lag_pacf = pacf(timeSeriesMonthly['Fat'], nlags=20, method='ols')\n",
    "\n",
    "plt.subplot(121) \n",
    "plt.plot(lag_acf)\n",
    "plt.axhline(y=0,linestyle='--',color='gray')\n",
    "plt.axhline(y=-1.96/np.sqrt(len(timeSeriesMonthly['Fat'])),linestyle='--',color='gray')\n",
    "plt.axhline(y=1.96/np.sqrt(len(timeSeriesMonthly['Fat'])),linestyle='--',color='gray')\n",
    "plt.title('Autocorrelation Function')\n",
    "\n",
    "plt.subplot(122)\n",
    "plt.plot(lag_pacf)\n",
    "plt.axhline(y=0,linestyle='--',color='gray')\n",
    "plt.axhline(y=-1.96/np.sqrt(len(timeSeriesMonthly['Fat'])),linestyle='--',color='gray')\n",
    "plt.axhline(y=1.96/np.sqrt(len(timeSeriesMonthly['Fat'])),linestyle='--',color='gray')\n",
    "plt.title('Partial Autocorrelation Function')\n",
    "plt.tight_layout()"
   ]
  },
  {
   "cell_type": "code",
   "execution_count": null,
   "metadata": {
    "collapsed": false
   },
   "outputs": [],
   "source": [
    "model = ARIMA((timeSeriesMonthly['Fat']), order=(0, 1, 2))  \n",
    "results_AR = model.fit(disp=-1)  \n",
    "plt.plot(timeSeriesMonthly['Fat'], color='blue')\n",
    "plt.plot(results_AR.fittedvalues, color='red')\n",
    "plt.title('RSS: %.4f'% sum((results_AR.fittedvalues-timeSeriesMonthly['Fat'])**2))\n",
    "plt.show()"
   ]
  },
  {
   "cell_type": "code",
   "execution_count": null,
   "metadata": {
    "collapsed": false
   },
   "outputs": [],
   "source": [
    "predictionsARFat = pd.Series(results_AR.fittedvalues, copy=True)\n",
    "predictionsARFatCumulativeSum = predictionsARFat.cumsum()\n",
    "print(predictionsARFat.head())\n",
    "print(predictionsARFatCumulativeSum.head())\n",
    "predictionFat = np.exp(predictionsARFatCumulativeSum)\n",
    "plt.plot(timeSeriesMonthly['Fat'])\n",
    "plt.plot(predictionFat)"
   ]
  },
  {
   "cell_type": "code",
   "execution_count": null,
   "metadata": {
    "collapsed": false
   },
   "outputs": [],
   "source": [
    "rolmeanMonthlySP = timeSeriesMonthly['Sanitary Products'].rolling(center=False,window=3).mean()\n",
    "rolstdMonthlySP = timeSeriesMonthly['Sanitary Products'].rolling(center=False,window=3).std()\n",
    "plt.plot(timeSeriesMonthly['Sanitary Products'], color='r', marker='o')\n",
    "plt.plot(rolmeanMonthlySP, label='Rolling Mean - Sanitary Products', color='orange', marker='^')\n",
    "#plt.plot(rolstdMonthlySP, label='Rolling SD - SP',color = 'purple')\n",
    "#plt.plot(timeSeriesMonthly['Roots'], color='g', marker='^')\n",
    "#plt.plot(timeSeriesMonthly['Sanitary Products'], color='b', marker='o')\n",
    "#plt.title('Blockage trend for Sanitary Products - Per Month', **title_font)\n",
    "plt.xlabel('Month/Year', **axis_font)\n",
    "plt.ylabel('Blockage Count', **axis_font)\n",
    "plt.legend(prop=font_prop,numpoints=1,loc='lower right')\n",
    "plt.savefig(\"C:\\\\Users\\\\lenovo\\\\Documents\\\\Dissertation\\\\Report\\\\Images\\\\CompleteMonthlyBTforSP.png\", dpi=400)\n",
    "plt.show()"
   ]
  },
  {
   "cell_type": "code",
   "execution_count": null,
   "metadata": {
    "collapsed": false
   },
   "outputs": [],
   "source": [
    "rolmeanMonthlyTotal = timeSeriesMonthly['Total'].rolling(center=False,window=3).mean()\n",
    "rolstdMonthlyTotal = timeSeriesMonthly['Total'].rolling(center=False,window=3).std()\n",
    "plt.plot(timeSeriesMonthly['Total'], color='r', marker='o', label='Total Blockages')\n",
    "plt.plot(rolmeanMonthlyTotal, label='Rolling Mean - Total Blockages', color='orange', marker='^')\n",
    "#plt.title('Blockage trend for Total Blockages - Per Month', **title_font)\n",
    "plt.xlabel('Month/Year', **axis_font)\n",
    "plt.ylabel('Blockage Count', **axis_font)\n",
    "plt.legend(prop=font_prop, numpoints=1, loc='center right')\n",
    "plt.savefig(\"C:\\\\Users\\\\lenovo\\\\Documents\\\\Dissertation\\\\Report\\\\Images\\\\CompleteMonthlyBTforTotal.png\", dpi=400)\n",
    "plt.show()"
   ]
  },
  {
   "cell_type": "code",
   "execution_count": null,
   "metadata": {
    "collapsed": true
   },
   "outputs": [],
   "source": [
    "rolmeanMonthlyRoots = timeSeriesMonthly['Roots'].rolling(center=False,window=3).mean()\n",
    "rolstdMonthlyRoots = timeSeriesMonthly['Roots'].rolling(center=False,window=3).std()\n",
    "plt.plot(timeSeriesMonthly['Roots'], color='r', marker='o', label='Roots')\n",
    "plt.plot(rolmeanMonthlyRoots, label='Rolling Mean - Roots', color='orange', marker='^')\n",
    "#plt.title('Blockage trend for Roots - Per Month', **title_font)\n",
    "plt.xlabel('Month/Year', **axis_font)\n",
    "plt.ylabel('Blockage Count', **axis_font)\n",
    "plt.legend(prop=font_prop, numpoints=1, loc='upper right')\n",
    "plt.savefig(\"C:\\\\Users\\\\lenovo\\\\Documents\\\\Dissertation\\\\Report\\\\Images\\\\CompleteMonthlyBTforRoots.png\", dpi=400)\n",
    "plt.show()"
   ]
  },
  {
   "cell_type": "code",
   "execution_count": null,
   "metadata": {
    "collapsed": true
   },
   "outputs": [],
   "source": [
    "dateparseDaily = lambda dates: pd.datetime.strptime(dates, '%d/%m/%Y')\n",
    "timeSeriesDaily = pd.read_csv(filePathDaily, sep=',', parse_dates=[0], header=1,\n",
    "                         names=['Date','Index', 'Fat', 'Sanitary Products', 'Roots','Other','Total'],\n",
    "                         date_parser=dateparseDaily, index_col='Date')"
   ]
  },
  {
   "cell_type": "code",
   "execution_count": null,
   "metadata": {
    "collapsed": false
   },
   "outputs": [],
   "source": [
    "plt.plot(timeSeriesDaily['Fat'], color='r', marker='o')\n",
    "plt.title('Blockage trend for Fat - Per Day', **title_font)\n",
    "plt.xlabel('Date', **axis_font)\n",
    "plt.ylabel('Blockage Count', **axis_font)\n",
    "plt.legend(prop=font_prop, numpoints=1)\n",
    "plt.show()"
   ]
  },
  {
   "cell_type": "code",
   "execution_count": null,
   "metadata": {
    "collapsed": true
   },
   "outputs": [],
   "source": [
    "import statsmodels.formula.api as smf\n",
    "import numpy as np\n",
    "import pandas as pd\n",
    "import statsmodels.api as sm\n",
    "from scipy.stats.stats import pearsonr\n",
    "\n",
    "data= pd.DataFrame(pd.read_csv(filePathMonthly))"
   ]
  },
  {
   "cell_type": "code",
   "execution_count": null,
   "metadata": {
    "collapsed": false
   },
   "outputs": [],
   "source": [
    "modFat = smf.poisson('FatCount~Index', data=data).fit(method='bfgs')\n",
    "print(modFat.summary2())\n",
    "\n",
    "\n",
    "modSP = smf.poisson('SanitaryProductCount~Index', data=data).fit(method='bfgs')\n",
    "print(modSP.summary2())\n",
    "\n",
    "modRoots = smf.poisson('RootsCount~Index', data=data).fit(method='bfgs')\n",
    "print(modRoots.summary2())"
   ]
  },
  {
   "cell_type": "code",
   "execution_count": null,
   "metadata": {
    "collapsed": true
   },
   "outputs": [],
   "source": [
    "dataDaily = pd.DataFrame(pd.read_csv(filePathDaily))"
   ]
  },
  {
   "cell_type": "code",
   "execution_count": null,
   "metadata": {
    "collapsed": false
   },
   "outputs": [],
   "source": [
    "modFat = smf.poisson('FatCount~Index', data=dataDaily).fit(method='bfgs')\n",
    "print(modFat.summary2())\n",
    "\n",
    "modSP = smf.poisson('SanitaryProductCount~Index', data=dataDaily).fit(method='bfgs')\n",
    "print(modSP.summary2())\n",
    "\n",
    "modRoots = smf.poisson('RootsCount~Index', data=dataDaily).fit(method='bfgs')\n",
    "print(modRoots.summary2())\n",
    "\n",
    "modTotal = smf.poisson('TotalCount~Index', data=dataDaily).fit(method='bfgs')\n",
    "print(modTotal.summary2())"
   ]
  },
  {
   "cell_type": "code",
   "execution_count": null,
   "metadata": {
    "collapsed": false
   },
   "outputs": [],
   "source": [
    "fileGrid0 = 'C:\\\\Users\\\\lenovo\\\\Documents\\\\Dissertation\\\\Report\\\\DataFiles\\\\Grid1_Size20000_Poisson.csv'\n",
    "dateparseMonthly = lambda dates: pd.datetime.strptime(dates, '%m/%Y')\n",
    "dataGrid0Size20 = pd.read_csv(fileGrid0, sep=',', parse_dates=[1], header=1,\n",
    "                         names=['GridIndex','Date','Index', 'Fat', 'Sanitary Products', 'Roots','Other','Total'],\n",
    "                         date_parser=dateparseMonthly, index_col='Date')\n",
    "rolmeanMonthlyGrid1 = dataGrid0Size20['Fat'].rolling(center=False,window=3).mean()\n",
    "rolstdMonthlyGrid1 = dataGrid0Size20['Fat'].rolling(center=False,window=3).std()\n",
    "plt.figure(figsize=(8, 6), dpi=400)\n",
    "plt.plot(dataGrid0Size20['Fat'], color='r', marker='o')\n",
    "plt.plot(rolmeanMonthlyGrid1, color='orange', marker='^', label=\"Rolling Mean - Fat\")\n",
    "plt.xlabel('Month/Year', **axis_font)\n",
    "plt.ylabel('Blockage Count', **axis_font)\n",
    "plt.legend(prop=font_prop, numpoints=1,loc='upper right')\n",
    "plt.savefig(\"C:\\\\Users\\\\lenovo\\\\Documents\\\\Dissertation\\\\Report\\\\Images\\\\Grid1Size20.png\", dpi=400)\n",
    "plt.show()"
   ]
  }
 ],
 "metadata": {
  "kernelspec": {
   "display_name": "Python 3",
   "language": "python",
   "name": "python3"
  },
  "language_info": {
   "codemirror_mode": {
    "name": "ipython",
    "version": 3
   },
   "file_extension": ".py",
   "mimetype": "text/x-python",
   "name": "python",
   "nbconvert_exporter": "python",
   "pygments_lexer": "ipython3",
   "version": "3.5.1"
  }
 },
 "nbformat": 4,
 "nbformat_minor": 0
}
