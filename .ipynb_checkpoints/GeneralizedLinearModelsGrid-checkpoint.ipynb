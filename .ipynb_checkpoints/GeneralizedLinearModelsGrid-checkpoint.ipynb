{
 "cells": [
  {
   "cell_type": "code",
   "execution_count": 1,
   "metadata": {
    "collapsed": true
   },
   "outputs": [],
   "source": [
    "import matplotlib.pyplot as plt\n",
    "import matplotlib.font_manager as font_manager\n",
    "import numpy as np\n",
    "import pandas as pd\n",
    "import statsmodels.api as sm\n",
    "import statsmodels.formula.api as smf\n",
    "from scipy.stats import chisqprob\n",
    "from scipy.stats import chisquare\n",
    "%matplotlib inline\n",
    "from os import listdir\n",
    "from os.path import isfile, join"
   ]
  },
  {
   "cell_type": "code",
   "execution_count": 2,
   "metadata": {
    "collapsed": false
   },
   "outputs": [],
   "source": [
    "# Set the font path properly here if not using Windows. Otherwise just comment this out\n",
    "plt.style.use('ggplot')\n",
    "font_path = 'C:\\Windows\\Fonts\\Arial.ttf'\n",
    "font_prop = font_manager.FontProperties(size=12)\n",
    "title_font = {'fontname':'Arial', 'size':'15', 'color':'black', 'weight':'normal',\n",
    "              'verticalalignment':'bottom'} # Bottom vertical alignment for more space\n",
    "axis_font = {'fontname':'Arial', 'size':'12'}\n",
    "\n",
    "arrayOfPredictedValues = []\n",
    "arrayOfLabels = []\n",
    "numberOfModels = 0"
   ]
  },
  {
   "cell_type": "code",
   "execution_count": 3,
   "metadata": {
    "collapsed": true
   },
   "outputs": [],
   "source": [
    "def GoodnessOfFitPoisson(observedValues, blockageType):\n",
    "    xSum = np.sum(observedValues)\n",
    "    muHat = xSum / len(observedValues)\n",
    "    # Since the expected value of Poisson is equal to its mean\n",
    "    # we will use mean to perform chisquare test of goodness-of-fit\n",
    "    expectedValues = np.ones(shape=(1, len(X))).fill(muHat)\n",
    "    goodnessOfFit = chisquare(observedValues, expectedValues)\n",
    "    print('{0}\\tChisquare-Value: {1}\\tp-Value: {2}'.format(blockageType,goodnessOfFit.statistic,\n",
    "                                                           goodnessOfFit.pvalue))"
   ]
  },
  {
   "cell_type": "code",
   "execution_count": 4,
   "metadata": {
    "collapsed": true
   },
   "outputs": [],
   "source": [
    "def GeneralizedLinearRegression(blockageData,dependentVariable,independentVariable, distributionFamily,\n",
    "                                familyName, blockageName, graphFileName, gridId):\n",
    "    print('GENERALIZED LINEAR REGRESSION - {0} Family, for {1}'.format(familyName,blockageName))\n",
    "    formula = '{0}~{1}'.format(dependentVariable,independentVariable)\n",
    "    model = smf.glm(formula=formula, data=blockageData, family=distributionFamily)\n",
    "    fittedModel = model.fit()\n",
    "    print('Deviance Residual', fittedModel.deviance)\n",
    "    pearsonResiduals = fittedModel.resid_pearson\n",
    "    devianceResiduals = fittedModel.resid_deviance\n",
    "    pValue = chisqprob(fittedModel.deviance, fittedModel.df_resid)\n",
    "    # H0 (null hypothesis) : Model correctly follows given distribution\n",
    "    # H1 (alternative hypothesis): Model does not follow given distribution\n",
    "    print('Chisquare value', pValue)\n",
    "    #if pValue > 0.05:\n",
    "    #    print('Can NOT reject the null hypothesis. Model correctly follows {0} distribution.'.format(familyName))\n",
    "    #else:\n",
    "        #print('Reject the null hypothesis. Model does not follow {0} distribution'.format(familyName))\n",
    "    #print(fittedModel.summary())\n",
    "    x = [1, 2, 3, 4, 5, 6, 7, 8, 9, 10, 11, 12, 13, 14, 15, 16, 17, 18, 19, 20, 21, 22, 23, 24, 25, 26, 27, 28, 29, 30,\n",
    "         31, 32, 33, 34, 35]\n",
    "    newValues = pd.DataFrame(x)\n",
    "    newValues.columns = ['Index']\n",
    "    predictedY = fittedModel.predict(newValues)\n",
    "    arrayOfPredictedValues.append(predictedY)\n",
    "    arrayOfLabels.append('Grid {0}'.format(gridId))\n",
    "    print('=========================================================================================================')\n",
    "    print('=========================================================================================================')"
   ]
  },
  {
   "cell_type": "code",
   "execution_count": 5,
   "metadata": {
    "collapsed": true
   },
   "outputs": [],
   "source": [
    "def ShowGraph(trends,labels,numberOfPlot):\n",
    "    graphFileName = '{0}\\\\{1}_{2}.png'.format(folderLocationImages20,\n",
    "                                                  blockageType,numberOfPlot)\n",
    "    fig = plt.figure(figsize=(12, 8), dpi=400)\n",
    "    ax = plt.subplot(111)\n",
    "    i=0\n",
    "    for trend in trends:\n",
    "        ax.plot(trend, marker='o', label=labels[i])\n",
    "        i += 1\n",
    "\n",
    "    box = ax.get_position()\n",
    "    ax.set_position([box.x0, box.y0 + box.height * 0.1,box.width, box.height * 0.9])\n",
    "    # Put a legend below current axis\n",
    "    ax.legend(loc='upper center', bbox_to_anchor=(0.5, -0.09),\n",
    "              fancybox=True, shadow=True, ncol=5)\n",
    "    plt.xlabel('Month/Year', **axis_font)\n",
    "    plt.ylabel('Blockage Count', **axis_font)\n",
    "    plt.savefig(graphFileName, dpi=400)\n",
    "    #plt.show()"
   ]
  },
  {
   "cell_type": "code",
   "execution_count": 6,
   "metadata": {
    "collapsed": false
   },
   "outputs": [
    {
     "ename": "FileNotFoundError",
     "evalue": "[WinError 3] The system cannot find the path specified: 'C:\\\\Users\\\\lenovo\\\\Documents\\\\Dissertation\\\\Report\\\\DataFiles\\\\CleanGridFiles5km'",
     "output_type": "error",
     "traceback": [
      "\u001b[1;31m---------------------------------------------------------------------------\u001b[0m",
      "\u001b[1;31mFileNotFoundError\u001b[0m                         Traceback (most recent call last)",
      "\u001b[1;32m<ipython-input-6-32ba37080b58>\u001b[0m in \u001b[0;36m<module>\u001b[1;34m()\u001b[0m\n\u001b[0;32m      6\u001b[0m \u001b[0mfolderLocationData20\u001b[0m \u001b[1;33m=\u001b[0m \u001b[1;34m\"C:\\\\Users\\\\lenovo\\\\Documents\\\\Dissertation\\\\Report\\\\DataFiles\\\\\"\u001b[0m                        \u001b[1;34m\"CleanGridFiles5km\"\u001b[0m\u001b[1;33m\u001b[0m\u001b[0m\n\u001b[0;32m      7\u001b[0m \u001b[0mfolderLocationImages20\u001b[0m \u001b[1;33m=\u001b[0m \u001b[1;34m\"C:\\\\Users\\\\lenovo\\\\Documents\\\\Dissertation\\\\Report\\\\Images\\\\\"\u001b[0m                          \u001b[1;34m\"GridFiles\"\u001b[0m\u001b[1;33m\u001b[0m\u001b[0m\n\u001b[1;32m----> 8\u001b[1;33m \u001b[0monlyfiles\u001b[0m \u001b[1;33m=\u001b[0m \u001b[1;33m[\u001b[0m\u001b[0mf\u001b[0m \u001b[1;32mfor\u001b[0m \u001b[0mf\u001b[0m \u001b[1;32min\u001b[0m \u001b[0mlistdir\u001b[0m\u001b[1;33m(\u001b[0m\u001b[0mfolderLocationData20\u001b[0m\u001b[1;33m)\u001b[0m \u001b[1;32mif\u001b[0m \u001b[0misfile\u001b[0m\u001b[1;33m(\u001b[0m\u001b[0mjoin\u001b[0m\u001b[1;33m(\u001b[0m\u001b[0mfolderLocationData20\u001b[0m\u001b[1;33m,\u001b[0m \u001b[0mf\u001b[0m\u001b[1;33m)\u001b[0m\u001b[1;33m)\u001b[0m\u001b[1;33m]\u001b[0m\u001b[1;33m\u001b[0m\u001b[0m\n\u001b[0m\u001b[0;32m      9\u001b[0m \u001b[0mi\u001b[0m \u001b[1;33m=\u001b[0m \u001b[1;36m0\u001b[0m\u001b[1;33m\u001b[0m\u001b[0m\n",
      "\u001b[1;31mFileNotFoundError\u001b[0m: [WinError 3] The system cannot find the path specified: 'C:\\\\Users\\\\lenovo\\\\Documents\\\\Dissertation\\\\Report\\\\DataFiles\\\\CleanGridFiles5km'"
     ]
    }
   ],
   "source": [
    "# blockageTypes = ['TotalCount','SanitaryProductsCount','UnknownCount']\n",
    "# blockageTypeNames = ['Total Blockages','Sanitary Products','Missing\\\\Unknown']\n",
    "blockageTypes = ['TotalCount']\n",
    "blockageTypeNames = ['Total Blockages']\n",
    "\n",
    "folderLocationData20 = \"C:\\\\Users\\\\lenovo\\\\Documents\\\\Dissertation\\\\Report\\\\DataFiles\\\\\" \\\n",
    "                       \"GridFiles_Reduced_5km\"\n",
    "folderLocationImages20 = \"C:\\\\Users\\\\lenovo\\\\Documents\\\\Dissertation\\\\Report\\\\Images\\\\\" \\\n",
    "                         \"GridFiles\"\n",
    "onlyfiles = [f for f in listdir(folderLocationData20) if isfile(join(folderLocationData20, f))]\n",
    "i = 0"
   ]
  },
  {
   "cell_type": "code",
   "execution_count": null,
   "metadata": {
    "collapsed": false
   },
   "outputs": [],
   "source": [
    "for file in onlyfiles:\n",
    "    completeFileGridAnalysis = '{0}\\\\{1}'.format(folderLocationData20, file)\n",
    "    data = pd.DataFrame(pd.read_csv(completeFileGridAnalysis))\n",
    "    fileComponents = file.split('_')\n",
    "    gridId = fileComponents[0][4:]\n",
    "    i=0\n",
    "    for blockageType in blockageTypes:        \n",
    "        negativeBin = sm.families.NegativeBinomial()\n",
    "        familyName = 'Negative Binomial'\n",
    "        GeneralizedLinearRegression(\n",
    "            blockageData=data,\n",
    "            dependentVariable=blockageType,\n",
    "            independentVariable='Index',\n",
    "            distributionFamily=negativeBin,\n",
    "            familyName=familyName,\n",
    "            blockageName=blockageTypeNames[i],\n",
    "            graphFileName='{0}\\\\{1}_{2}_{3}.png'.format(folderLocationImages20, file,\n",
    "                                                      blockageType, familyName),\n",
    "            gridId=gridId)\n",
    "        i += 1\n",
    "\n",
    "trends = []\n",
    "labels = []\n",
    "numberOfPlot = 1\n",
    "current = 0\n",
    "for count in range(0,len(arrayOfPredictedValues)):    \n",
    "    if current == 5:\n",
    "        ShowGraph(trends=trends,labels=labels, numberOfPlot=numberOfPlot)\n",
    "        print('printed')\n",
    "        trends = []\n",
    "        labels = []\n",
    "        print(numberOfPlot)\n",
    "        numberOfPlot += 1        \n",
    "        current = 0\n",
    "    current +=1\n",
    "    trends.append(arrayOfPredictedValues[count])\n",
    "    labels.append(arrayOfLabels[count])\n",
    "   \n",
    "if current >0: \n",
    "    ShowGraph(trends,labels,numberOfPlot)"
   ]
  }
 ],
 "metadata": {
  "kernelspec": {
   "display_name": "Python 3",
   "language": "python",
   "name": "python3"
  },
  "language_info": {
   "codemirror_mode": {
    "name": "ipython",
    "version": 3
   },
   "file_extension": ".py",
   "mimetype": "text/x-python",
   "name": "python",
   "nbconvert_exporter": "python",
   "pygments_lexer": "ipython3",
   "version": "3.5.1"
  }
 },
 "nbformat": 4,
 "nbformat_minor": 0
}
